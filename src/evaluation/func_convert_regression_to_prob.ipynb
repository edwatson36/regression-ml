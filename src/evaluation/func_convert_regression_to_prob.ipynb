def _log(mod, x):
    pred = mod.predict(x)
    prob = 1/(1+np.exp(-pred))

    return prob
